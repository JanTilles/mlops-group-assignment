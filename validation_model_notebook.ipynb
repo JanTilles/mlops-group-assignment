{
 "cells": [
  {
   "cell_type": "code",
   "execution_count": 2,
   "metadata": {},
   "outputs": [],
   "source": [
    "import numpy as np\n",
    "from sklearn import datasets\n",
    "from sklearn.model_selection import train_test_split\n",
    "import mlflow\n",
    "import mlflow.pyfunc\n",
    "import os\n",
    "import pandas as pd"
   ]
  },
  {
   "cell_type": "code",
   "execution_count": 3,
   "metadata": {},
   "outputs": [],
   "source": [
    "# Load the Iris dataset\n",
    "iris = datasets.load_iris()\n",
    "X = iris.data.astype(np.float32)\n",
    "y = iris.target\n",
    "\n",
    "# Split the dataset into training and testing sets\n",
    "X_train, X_test, y_train, y_test = train_test_split(X, y, test_size=0.2, random_state=42)\n",
    "\n",
    "# Convert X_test to a Pandas DataFrame\n",
    "X_test_df = pd.DataFrame(X_test, columns=iris.feature_names)\n",
    "\n",
    "# ✅ Convert y_test into a Pandas Series and merge it with X_test_df\n",
    "X_test_df[\"target\"] = pd.Series(y_test)"
   ]
  },
  {
   "cell_type": "code",
   "execution_count": 4,
   "metadata": {},
   "outputs": [
    {
     "name": "stdout",
     "output_type": "stream",
     "text": [
      "Model URI: c:/Users/JanTilles/Documents/Turku AMK/MLOps/mlruns\\4/6ad54b3126ef41d6a0b95c0ecafcb8b2/artifacts/RandomForest_model\n"
     ]
    }
   ],
   "source": [
    "# Get the current working directory\n",
    "script_dir = os.getcwd()\n",
    "parent_dir = os.path.dirname(script_dir)\n",
    "\n",
    "# Set MLflow tracking URI properly for Windows\n",
    "mlflow_tracking_dir = os.path.join(parent_dir, \"mlruns\").replace(\"\\\\\", \"/\")\n",
    "mlflow.set_tracking_uri(f\"file:///{mlflow_tracking_dir}\")\n",
    "\n",
    "# Ensure mlruns directory exists\n",
    "if not os.path.exists(mlflow_tracking_dir):\n",
    "    os.makedirs(mlflow_tracking_dir)\n",
    "\n",
    "# Update the path to your pre-trained model\n",
    "model_uri = os.path.join(mlflow_tracking_dir, \"4/6ad54b3126ef41d6a0b95c0ecafcb8b2/artifacts/RandomForest_model\")\n",
    "\n",
    "print(\"Model URI:\", model_uri)"
   ]
  },
  {
   "cell_type": "code",
   "execution_count": 5,
   "metadata": {},
   "outputs": [
    {
     "name": "stdout",
     "output_type": "stream",
     "text": [
      "Model loaded successfully.\n"
     ]
    },
    {
     "name": "stderr",
     "output_type": "stream",
     "text": [
      "c:\\Users\\JanTilles\\anaconda3\\envs\\ml-env\\Lib\\site-packages\\mlflow\\types\\utils.py:452: UserWarning: Hint: Inferred schema contains integer column(s). Integer columns in Python cannot represent missing values. If your input data contains missing values at inference time, it will be encoded as floats and will cause a schema enforcement error. The best way to avoid this problem is to infer the model schema based on a realistic data sample (training dataset) that includes missing values. Alternatively, you can declare integer columns as doubles (float64) whenever these columns may have missing values. See `Handling Integers With Missing Values <https://www.mlflow.org/docs/latest/models.html#handling-integers-with-missing-values>`_ for more details.\n",
      "  warnings.warn(\n",
      "2025/02/14 12:22:11 WARNING mlflow.models.evaluation.evaluators.classifier: According to the evaluation dataset label values, the model type looks like None, but you specified model type 'classifier'. Please verify that you set the `model_type` and `dataset` arguments correctly.\n",
      "c:\\Users\\JanTilles\\anaconda3\\envs\\ml-env\\Lib\\site-packages\\sklearn\\utils\\validation.py:2732: UserWarning: X has feature names, but RandomForestClassifier was fitted without feature names\n",
      "  warnings.warn(\n",
      "c:\\Users\\JanTilles\\anaconda3\\envs\\ml-env\\Lib\\site-packages\\sklearn\\utils\\validation.py:2732: UserWarning: X has feature names, but RandomForestClassifier was fitted without feature names\n",
      "  warnings.warn(\n",
      "2025/02/14 12:22:11 INFO mlflow.models.evaluation.evaluators.classifier: The evaluation dataset is inferred as multiclass dataset, number of classes is inferred as 3. If this is incorrect, please specify the `label_list` parameter in `evaluator_config`.\n",
      "c:\\Users\\JanTilles\\anaconda3\\envs\\ml-env\\Lib\\site-packages\\sklearn\\utils\\validation.py:2732: UserWarning: X has feature names, but RandomForestClassifier was fitted without feature names\n",
      "  warnings.warn(\n",
      "2025/02/14 12:22:11 INFO mlflow.models.evaluation.default_evaluator: Testing metrics on first row...\n",
      "2025/02/14 12:22:12 WARNING mlflow.models.evaluation.evaluators.shap: SHAP or matplotlib package is not installed, so model explainability insights will not be logged.\n"
     ]
    },
    {
     "name": "stdout",
     "output_type": "stream",
     "text": [
      "Validation Results: <mlflow.models.evaluation.base.EvaluationResult object at 0x000002246C827650>\n",
      "Predictions on test data: [1 0 2 1 1 0 1 2 1 1 2 0 0 0 0 1 2 1 1 2 0 2 0 2 2 2 2 2 0 0]\n"
     ]
    }
   ],
   "source": [
    "# Load the MLflow model\n",
    "pyfunc_model = mlflow.pyfunc.load_model(model_uri)\n",
    "\n",
    "print(\"Model loaded successfully.\")\n",
    "\n",
    "# Start an MLflow run before calling evaluate\n",
    "with mlflow.start_run():\n",
    "    # ✅ Pass the name of the target column instead of NumPy array\n",
    "    validation_results = mlflow.models.evaluate(\n",
    "        model=pyfunc_model,\n",
    "        data=X_test_df,\n",
    "        targets=\"target\",  # ✅ Pass the column name instead of NumPy array\n",
    "        model_type=\"classifier\",\n",
    "    )\n",
    "\n",
    "    print(\"Validation Results:\", validation_results)\n",
    "\n",
    "# Making predictions on test data\n",
    "predictions = pyfunc_model.predict(X_test_df.drop(columns=[\"target\"]))  # Drop target before prediction\n",
    "print(\"Predictions on test data:\", predictions)\n"
   ]
  }
 ],
 "metadata": {
  "kernelspec": {
   "display_name": "ml-env",
   "language": "python",
   "name": "python3"
  },
  "language_info": {
   "codemirror_mode": {
    "name": "ipython",
    "version": 3
   },
   "file_extension": ".py",
   "mimetype": "text/x-python",
   "name": "python",
   "nbconvert_exporter": "python",
   "pygments_lexer": "ipython3",
   "version": "3.11.11"
  }
 },
 "nbformat": 4,
 "nbformat_minor": 2
}
