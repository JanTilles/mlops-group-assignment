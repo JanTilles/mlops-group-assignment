{
 "cells": [
  {
   "cell_type": "code",
   "execution_count": 34,
   "metadata": {},
   "outputs": [],
   "source": [
    "import numpy as np\n",
    "from sklearn import datasets\n",
    "from sklearn.model_selection import train_test_split, GridSearchCV\n",
    "from sklearn.metrics import accuracy_score, classification_report\n",
    "from sklearn.linear_model import LogisticRegression\n",
    "from sklearn.ensemble import RandomForestClassifier\n",
    "from sklearn.tree import DecisionTreeClassifier\n",
    "from sklearn.svm import SVC\n",
    "import mlflow\n",
    "from mlflow.tracking import MlflowClient\n",
    "\n"
   ]
  },
  {
   "cell_type": "code",
   "execution_count": 35,
   "metadata": {},
   "outputs": [
    {
     "name": "stdout",
     "output_type": "stream",
     "text": [
      "Using existing experiment: iris_models_experiment with ID: 124924383425761890\n"
     ]
    },
    {
     "data": {
      "text/plain": [
       "<Experiment: artifact_location='mlflow-artifacts:/124924383425761890', creation_time=1745066609852, experiment_id='124924383425761890', last_update_time=1745066609852, lifecycle_stage='active', name='iris_models_experiment', tags={}>"
      ]
     },
     "execution_count": 35,
     "metadata": {},
     "output_type": "execute_result"
    }
   ],
   "source": [
    "# start mlflow in terminal: mlflow server --host 127.0.0.1 --port 5000\n",
    "# Set MLflow tracking URI\n",
    "mlflow.set_tracking_uri(\"http://127.0.0.1:5000\")\n",
    "\n",
    "# Check if the experiment exists\n",
    "experiment_name = \"iris_models_experiment\"\n",
    "client = MlflowClient()\n",
    "experiment = client.get_experiment_by_name(experiment_name)\n",
    "\n",
    "if experiment is None:\n",
    "    # Create the experiment if it does not exist\n",
    "    experiment_id = client.create_experiment(experiment_name)\n",
    "    print(f\"Created new experiment: {experiment_name} with ID: {experiment_id}\")\n",
    "else:\n",
    "    # Use the existing experiment\n",
    "    experiment_id = experiment.experiment_id\n",
    "    print(f\"Using existing experiment: {experiment_name} with ID: {experiment_id}\")\n",
    "\n",
    "# Set the experiment\n",
    "mlflow.set_experiment(experiment_name)\n",
    "\n"
   ]
  },
  {
   "cell_type": "code",
   "execution_count": 36,
   "metadata": {},
   "outputs": [],
   "source": [
    "# Load the Iris dataset\n",
    "iris = datasets.load_iris()\n",
    "X = iris.data.astype(np.float32)\n",
    "y = iris.target\n",
    "\n",
    "# Split the dataset into training and testing sets\n",
    "X_train, X_test, y_train, y_test = train_test_split(X, y, test_size=0.3, random_state=1)\n",
    "\n",
    "# Define an input example for MLflow logging\n",
    "input_example = np.array([X_train[0]])\n",
    "\n"
   ]
  },
  {
   "cell_type": "code",
   "execution_count": 54,
   "metadata": {},
   "outputs": [
    {
     "data": {
      "application/vnd.jupyter.widget-view+json": {
       "model_id": "e914ee74d3c143dbad0d237be906ba70",
       "version_major": 2,
       "version_minor": 0
      },
      "text/plain": [
       "Downloading artifacts:   0%|          | 0/7 [00:00<?, ?it/s]"
      ]
     },
     "metadata": {},
     "output_type": "display_data"
    },
    {
     "name": "stdout",
     "output_type": "stream",
     "text": [
      "LogisticRegression accuracy: 0.9555555555555556\n"
     ]
    },
    {
     "data": {
      "application/vnd.jupyter.widget-view+json": {
       "model_id": "db1687df30984a03ab9cd2c6a3639db6",
       "version_major": 2,
       "version_minor": 0
      },
      "text/plain": [
       "Downloading artifacts:   0%|          | 0/7 [00:00<?, ?it/s]"
      ]
     },
     "metadata": {},
     "output_type": "display_data"
    },
    {
     "name": "stdout",
     "output_type": "stream",
     "text": [
      "RandomForest accuracy: 0.9555555555555556\n"
     ]
    },
    {
     "data": {
      "application/vnd.jupyter.widget-view+json": {
       "model_id": "d34292fd275f435faff6ef0f3c15e90e",
       "version_major": 2,
       "version_minor": 0
      },
      "text/plain": [
       "Downloading artifacts:   0%|          | 0/7 [00:00<?, ?it/s]"
      ]
     },
     "metadata": {},
     "output_type": "display_data"
    },
    {
     "name": "stdout",
     "output_type": "stream",
     "text": [
      "DesicisionTree accuracy: 0.9555555555555556\n"
     ]
    },
    {
     "data": {
      "application/vnd.jupyter.widget-view+json": {
       "model_id": "0c18b2a89a48439c9ced4910c02bc00d",
       "version_major": 2,
       "version_minor": 0
      },
      "text/plain": [
       "Downloading artifacts:   0%|          | 0/7 [00:00<?, ?it/s]"
      ]
     },
     "metadata": {},
     "output_type": "display_data"
    },
    {
     "name": "stdout",
     "output_type": "stream",
     "text": [
      "SVM accuracy: 1.0\n",
      "Best model: SVM with accuracy: 1.0 and params: {'C': 1, 'kernel': 'linear'}\n",
      "🏃 View run mysterious-hog-944 at: http://127.0.0.1:5000/#/experiments/124924383425761890/runs/fb815fb22b184623a0b85c1063dbccce\n",
      "🧪 View experiment at: http://127.0.0.1:5000/#/experiments/124924383425761890\n"
     ]
    }
   ],
   "source": [
    "# Define the models and their hyperparameters\n",
    "models = {\n",
    "    \"LogisticRegression\": {\n",
    "        \"model\": LogisticRegression(),\n",
    "        \"params\": {\n",
    "            \"C\": [0.1, 1, 10],\n",
    "            \"solver\": [\"liblinear\"]\n",
    "        }\n",
    "    },\n",
    "    \"RandomForest\": {\n",
    "        \"model\": RandomForestClassifier(),\n",
    "        \"params\": {\n",
    "            \"n_estimators\": [10, 50, 100],\n",
    "            \"max_depth\": [None, 10, 20]\n",
    "        }\n",
    "    },\n",
    "    \"DesicisionTree\": {\n",
    "        \"model\": DecisionTreeClassifier(),\n",
    "        \"params\": {\n",
    "            'max_depth' : [2,3,4,5],\n",
    "            'min_samples_split': [2,3,4,5],\n",
    "            'min_samples_leaf': [1,2,3,4,5]\n",
    "        }\n",
    "    },\n",
    "    \"SVM\": {\n",
    "        \"model\": SVC(),\n",
    "        \"params\": {\n",
    "            \"C\": [0.1, 1, 10],\n",
    "            \"kernel\": [\"linear\", \"rbf\"]\n",
    "        }\n",
    "    }\n",
    "}\n",
    "\n",
    "\n",
    "\n",
    "\n",
    "# Start an MLflow run\n",
    "with mlflow.start_run():\n",
    "    best_model = None\n",
    "    best_score = 0\n",
    "    best_params = None\n",
    "\n",
    "    for model_name, model_info in models.items():\n",
    "        clf = GridSearchCV(model_info[\"model\"], model_info[\"params\"], cv=5)\n",
    "        clf.fit(X_train, y_train)\n",
    "        y_pred = clf.predict(X_test)\n",
    "        accuracy = accuracy_score(y_test, y_pred)\n",
    "        report = classification_report(y_test, y_pred, output_dict=True)\n",
    "        \n",
    "\n",
    "\n",
    "        # Log parameters, metrics, and the model with MLflow\n",
    "        mlflow.log_param(f\"{model_name}_params\", clf.best_params_)\n",
    "        mlflow.log_metric(f\"{model_name}_accuracy\", accuracy)\n",
    "        mlflow.sklearn.log_model(sk_model=clf.best_estimator_, artifact_path=f\"{model_name}_model\", input_example=input_example)\n",
    "\n",
    "        for label, metrics in report.items():\n",
    "            if isinstance(metrics, dict):\n",
    "                for metric_name, value in metrics.items():\n",
    "                    mlflow.log_metric(f\"{model_name}_{label}_{metric_name}\", value)\n",
    "\n",
    "        print(f\"{model_name} accuracy: {accuracy}\")\n",
    "\n",
    "        if accuracy > best_score:\n",
    "            best_model = model_name\n",
    "            best_score = accuracy\n",
    "            best_params = clf.best_params_\n",
    "\n",
    "    print(f\"Best model: {best_model} with accuracy: {best_score} and params: {best_params}\")\n",
    "\n",
    "# To view results in MLflow UI, run:\n",
    "# mlflow server --backend-store-uri sqlite:///mlflow.db --default-artifact-root ./mlruns --host 127.0.0.1 --port 5000"
   ]
  },
  {
   "cell_type": "code",
   "execution_count": null,
   "metadata": {},
   "outputs": [],
   "source": []
  }
 ],
 "metadata": {
  "kernelspec": {
   "display_name": "Python 3 (ipykernel)",
   "language": "python",
   "name": "python3"
  },
  "language_info": {
   "codemirror_mode": {
    "name": "ipython",
    "version": 3
   },
   "file_extension": ".py",
   "mimetype": "text/x-python",
   "name": "python",
   "nbconvert_exporter": "python",
   "pygments_lexer": "ipython3",
   "version": "3.12.7"
  }
 },
 "nbformat": 4,
 "nbformat_minor": 4
}
